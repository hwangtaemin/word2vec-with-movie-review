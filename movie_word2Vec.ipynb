{
  "nbformat": 4,
  "nbformat_minor": 0,
  "metadata": {
    "colab": {
      "name": "movie_word2Vec.ipynb",
      "provenance": [],
      "collapsed_sections": [],
      "authorship_tag": "ABX9TyOlTHfulTWGUStDunpwX9sx",
      "include_colab_link": true
    },
    "kernelspec": {
      "name": "python3",
      "display_name": "Python 3"
    },
    "language_info": {
      "name": "python"
    },
    "accelerator": "GPU"
  },
  "cells": [
    {
      "cell_type": "markdown",
      "metadata": {
        "id": "view-in-github",
        "colab_type": "text"
      },
      "source": [
        "<a href=\"https://colab.research.google.com/github/hwangtaemin/word2vec-with-movie-review/blob/main/movie_word2Vec.ipynb\" target=\"_parent\"><img src=\"https://colab.research.google.com/assets/colab-badge.svg\" alt=\"Open In Colab\"/></a>"
      ]
    },
    {
      "cell_type": "code",
      "metadata": {
        "id": "a1RY71fG5elp"
      },
      "source": [
        "import pandas as pd\n",
        "import numpy as np\n",
        "import warnings\n",
        "import os\n",
        "import matplotlib.pyplot as plt\n",
        "import seaborn as sns\n",
        "\n",
        "warnings.filterwarnings('ignore')\n",
        "SEED = 33"
      ],
      "execution_count": 1,
      "outputs": []
    },
    {
      "cell_type": "code",
      "metadata": {
        "colab": {
          "base_uri": "https://localhost:8080/"
        },
        "id": "7RFkWfZL5pm9",
        "outputId": "c6eaea85-1ec7-49e8-dea8-f3883498242f"
      },
      "source": [
        "from google.colab import drive\n",
        "drive.mount('/content/drive')"
      ],
      "execution_count": 2,
      "outputs": [
        {
          "output_type": "stream",
          "text": [
            "Mounted at /content/drive\n"
          ],
          "name": "stdout"
        }
      ]
    },
    {
      "cell_type": "markdown",
      "metadata": {
        "id": "TlEe3hlZ56_B"
      },
      "source": [
        "### 데이터 로드"
      ]
    },
    {
      "cell_type": "code",
      "metadata": {
        "colab": {
          "base_uri": "https://localhost:8080/"
        },
        "id": "2vzMWoi55zz7",
        "outputId": "e533e59f-540e-4a22-a58f-c43e2e73498d"
      },
      "source": [
        "train = pd.read_csv('/content/drive/MyDrive/Kaggle/movie/labeledTrainData.tsv', delimiter='\\t')\n",
        "test = pd.read_csv('/content/drive/MyDrive/Kaggle/movie/testData.tsv', delimiter='\\t')\n",
        "unlabeled_train = pd.read_csv('/content/drive/MyDrive/Kaggle/movie/unlabeledTrainData.tsv', delimiter='\\t', error_bad_lines=False)"
      ],
      "execution_count": 3,
      "outputs": [
        {
          "output_type": "stream",
          "text": [
            "b'Skipping line 43043: expected 2 fields, saw 3\\n'\n"
          ],
          "name": "stderr"
        }
      ]
    },
    {
      "cell_type": "code",
      "metadata": {
        "colab": {
          "base_uri": "https://localhost:8080/",
          "height": 222
        },
        "id": "JRzR65Yb6fvv",
        "outputId": "5b8e2df1-8f6b-48c3-dea0-4defd432c0fe"
      },
      "source": [
        "print(train.shape)\n",
        "train.head()"
      ],
      "execution_count": 4,
      "outputs": [
        {
          "output_type": "stream",
          "text": [
            "(25000, 3)\n"
          ],
          "name": "stdout"
        },
        {
          "output_type": "execute_result",
          "data": {
            "text/html": [
              "<div>\n",
              "<style scoped>\n",
              "    .dataframe tbody tr th:only-of-type {\n",
              "        vertical-align: middle;\n",
              "    }\n",
              "\n",
              "    .dataframe tbody tr th {\n",
              "        vertical-align: top;\n",
              "    }\n",
              "\n",
              "    .dataframe thead th {\n",
              "        text-align: right;\n",
              "    }\n",
              "</style>\n",
              "<table border=\"1\" class=\"dataframe\">\n",
              "  <thead>\n",
              "    <tr style=\"text-align: right;\">\n",
              "      <th></th>\n",
              "      <th>id</th>\n",
              "      <th>sentiment</th>\n",
              "      <th>review</th>\n",
              "    </tr>\n",
              "  </thead>\n",
              "  <tbody>\n",
              "    <tr>\n",
              "      <th>0</th>\n",
              "      <td>5814_8</td>\n",
              "      <td>1</td>\n",
              "      <td>With all this stuff going down at the moment w...</td>\n",
              "    </tr>\n",
              "    <tr>\n",
              "      <th>1</th>\n",
              "      <td>2381_9</td>\n",
              "      <td>1</td>\n",
              "      <td>\\The Classic War of the Worlds\\\" by Timothy Hi...</td>\n",
              "    </tr>\n",
              "    <tr>\n",
              "      <th>2</th>\n",
              "      <td>7759_3</td>\n",
              "      <td>0</td>\n",
              "      <td>The film starts with a manager (Nicholas Bell)...</td>\n",
              "    </tr>\n",
              "    <tr>\n",
              "      <th>3</th>\n",
              "      <td>3630_4</td>\n",
              "      <td>0</td>\n",
              "      <td>It must be assumed that those who praised this...</td>\n",
              "    </tr>\n",
              "    <tr>\n",
              "      <th>4</th>\n",
              "      <td>9495_8</td>\n",
              "      <td>1</td>\n",
              "      <td>Superbly trashy and wondrously unpretentious 8...</td>\n",
              "    </tr>\n",
              "  </tbody>\n",
              "</table>\n",
              "</div>"
            ],
            "text/plain": [
              "       id  sentiment                                             review\n",
              "0  5814_8          1  With all this stuff going down at the moment w...\n",
              "1  2381_9          1  \\The Classic War of the Worlds\\\" by Timothy Hi...\n",
              "2  7759_3          0  The film starts with a manager (Nicholas Bell)...\n",
              "3  3630_4          0  It must be assumed that those who praised this...\n",
              "4  9495_8          1  Superbly trashy and wondrously unpretentious 8..."
            ]
          },
          "metadata": {
            "tags": []
          },
          "execution_count": 4
        }
      ]
    },
    {
      "cell_type": "code",
      "metadata": {
        "colab": {
          "base_uri": "https://localhost:8080/",
          "height": 222
        },
        "id": "3TO43MS96lFK",
        "outputId": "bad07f05-51ba-411c-a212-8f5f21630f03"
      },
      "source": [
        "print(test.shape)\n",
        "test.head()"
      ],
      "execution_count": 5,
      "outputs": [
        {
          "output_type": "stream",
          "text": [
            "(25000, 2)\n"
          ],
          "name": "stdout"
        },
        {
          "output_type": "execute_result",
          "data": {
            "text/html": [
              "<div>\n",
              "<style scoped>\n",
              "    .dataframe tbody tr th:only-of-type {\n",
              "        vertical-align: middle;\n",
              "    }\n",
              "\n",
              "    .dataframe tbody tr th {\n",
              "        vertical-align: top;\n",
              "    }\n",
              "\n",
              "    .dataframe thead th {\n",
              "        text-align: right;\n",
              "    }\n",
              "</style>\n",
              "<table border=\"1\" class=\"dataframe\">\n",
              "  <thead>\n",
              "    <tr style=\"text-align: right;\">\n",
              "      <th></th>\n",
              "      <th>id</th>\n",
              "      <th>review</th>\n",
              "    </tr>\n",
              "  </thead>\n",
              "  <tbody>\n",
              "    <tr>\n",
              "      <th>0</th>\n",
              "      <td>12311_10</td>\n",
              "      <td>Naturally in a film who's main themes are of m...</td>\n",
              "    </tr>\n",
              "    <tr>\n",
              "      <th>1</th>\n",
              "      <td>8348_2</td>\n",
              "      <td>This movie is a disaster within a disaster fil...</td>\n",
              "    </tr>\n",
              "    <tr>\n",
              "      <th>2</th>\n",
              "      <td>5828_4</td>\n",
              "      <td>All in all, this is a movie for kids. We saw i...</td>\n",
              "    </tr>\n",
              "    <tr>\n",
              "      <th>3</th>\n",
              "      <td>7186_2</td>\n",
              "      <td>Afraid of the Dark left me with the impression...</td>\n",
              "    </tr>\n",
              "    <tr>\n",
              "      <th>4</th>\n",
              "      <td>12128_7</td>\n",
              "      <td>A very accurate depiction of small time mob li...</td>\n",
              "    </tr>\n",
              "  </tbody>\n",
              "</table>\n",
              "</div>"
            ],
            "text/plain": [
              "         id                                             review\n",
              "0  12311_10  Naturally in a film who's main themes are of m...\n",
              "1    8348_2  This movie is a disaster within a disaster fil...\n",
              "2    5828_4  All in all, this is a movie for kids. We saw i...\n",
              "3    7186_2  Afraid of the Dark left me with the impression...\n",
              "4   12128_7  A very accurate depiction of small time mob li..."
            ]
          },
          "metadata": {
            "tags": []
          },
          "execution_count": 5
        }
      ]
    },
    {
      "cell_type": "code",
      "metadata": {
        "colab": {
          "base_uri": "https://localhost:8080/",
          "height": 222
        },
        "id": "IeRQg1gW6ofB",
        "outputId": "4bd9e8dc-af0f-432b-ab8e-e3536fbc80b7"
      },
      "source": [
        "print(unlabeled_train.shape)\n",
        "unlabeled_train.head()"
      ],
      "execution_count": 6,
      "outputs": [
        {
          "output_type": "stream",
          "text": [
            "(49998, 2)\n"
          ],
          "name": "stdout"
        },
        {
          "output_type": "execute_result",
          "data": {
            "text/html": [
              "<div>\n",
              "<style scoped>\n",
              "    .dataframe tbody tr th:only-of-type {\n",
              "        vertical-align: middle;\n",
              "    }\n",
              "\n",
              "    .dataframe tbody tr th {\n",
              "        vertical-align: top;\n",
              "    }\n",
              "\n",
              "    .dataframe thead th {\n",
              "        text-align: right;\n",
              "    }\n",
              "</style>\n",
              "<table border=\"1\" class=\"dataframe\">\n",
              "  <thead>\n",
              "    <tr style=\"text-align: right;\">\n",
              "      <th></th>\n",
              "      <th>id</th>\n",
              "      <th>review</th>\n",
              "    </tr>\n",
              "  </thead>\n",
              "  <tbody>\n",
              "    <tr>\n",
              "      <th>0</th>\n",
              "      <td>9999_0</td>\n",
              "      <td>Watching Time Chasers, it obvious that it was ...</td>\n",
              "    </tr>\n",
              "    <tr>\n",
              "      <th>1</th>\n",
              "      <td>45057_0</td>\n",
              "      <td>I saw this film about 20 years ago and remembe...</td>\n",
              "    </tr>\n",
              "    <tr>\n",
              "      <th>2</th>\n",
              "      <td>15561_0</td>\n",
              "      <td>Minor Spoilers&lt;br /&gt;&lt;br /&gt;In New York, Joan Ba...</td>\n",
              "    </tr>\n",
              "    <tr>\n",
              "      <th>3</th>\n",
              "      <td>7161_0</td>\n",
              "      <td>I went to see this film with a great deal of e...</td>\n",
              "    </tr>\n",
              "    <tr>\n",
              "      <th>4</th>\n",
              "      <td>43971_0</td>\n",
              "      <td>Yes, I agree with everyone on this site this m...</td>\n",
              "    </tr>\n",
              "  </tbody>\n",
              "</table>\n",
              "</div>"
            ],
            "text/plain": [
              "        id                                             review\n",
              "0   9999_0  Watching Time Chasers, it obvious that it was ...\n",
              "1  45057_0  I saw this film about 20 years ago and remembe...\n",
              "2  15561_0  Minor Spoilers<br /><br />In New York, Joan Ba...\n",
              "3   7161_0  I went to see this film with a great deal of e...\n",
              "4  43971_0  Yes, I agree with everyone on this site this m..."
            ]
          },
          "metadata": {
            "tags": []
          },
          "execution_count": 6
        }
      ]
    },
    {
      "cell_type": "markdown",
      "metadata": {
        "id": "rF6cA2VV66sw"
      },
      "source": [
        "### 전처리"
      ]
    },
    {
      "cell_type": "code",
      "metadata": {
        "id": "KJDbPSJh6yqJ"
      },
      "source": [
        "from bs4 import BeautifulSoup\n",
        "from nltk.corpus import stopwords"
      ],
      "execution_count": 7,
      "outputs": []
    },
    {
      "cell_type": "code",
      "metadata": {
        "id": "SnYS3czd7Di2"
      },
      "source": [
        "sample = train['review'][0]"
      ],
      "execution_count": 8,
      "outputs": []
    },
    {
      "cell_type": "code",
      "metadata": {
        "colab": {
          "base_uri": "https://localhost:8080/",
          "height": 89
        },
        "id": "ERtO4MGz7IVK",
        "outputId": "659e538a-d5d1-47b0-8807-56be5fbafc3e"
      },
      "source": [
        "sample"
      ],
      "execution_count": 9,
      "outputs": [
        {
          "output_type": "execute_result",
          "data": {
            "application/vnd.google.colaboratory.intrinsic+json": {
              "type": "string"
            },
            "text/plain": [
              "\"With all this stuff going down at the moment with MJ i've started listening to his music, watching the odd documentary here and there, watched The Wiz and watched Moonwalker again. Maybe i just want to get a certain insight into this guy who i thought was really cool in the eighties just to maybe make up my mind whether he is guilty or innocent. Moonwalker is part biography, part feature film which i remember going to see at the cinema when it was originally released. Some of it has subtle messages about MJ's feeling towards the press and also the obvious message of drugs are bad m'kay.<br /><br />Visually impressive but of course this is all about Michael Jackson so unless you remotely like MJ in anyway then you are going to hate this and find it boring. Some may call MJ an egotist for consenting to the making of this movie BUT MJ and most of his fans would say that he made it for the fans which if true is really nice of him.<br /><br />The actual feature film bit when it finally starts is only on for 20 minutes or so excluding the Smooth Criminal sequence and Joe Pesci is convincing as a psychopathic all powerful drug lord. Why he wants MJ dead so bad is beyond me. Because MJ overheard his plans? Nah, Joe Pesci's character ranted that he wanted people to know it is he who is supplying drugs etc so i dunno, maybe he just hates MJ's music.<br /><br />Lots of cool things in this like MJ turning into a car and a robot and the whole Speed Demon sequence. Also, the director must have had the patience of a saint when it came to filming the kiddy Bad sequence as usually directors hate working with one kid let alone a whole bunch of them performing a complex dance scene.<br /><br />Bottom line, this movie is for people who like MJ on one level or another (which i think is most people). If not, then stay away. It does try and give off a wholesome message and ironically MJ's bestest buddy in this movie is a girl! Michael Jackson is truly one of the most talented people ever to grace this planet but is he guilty? Well, with all the attention i've gave this subject....hmmm well i don't know because people can be different behind closed doors, i know this for a fact. He is either an extremely nice but stupid guy or one of the most sickest liars. I hope he is not the latter.\""
            ]
          },
          "metadata": {
            "tags": []
          },
          "execution_count": 9
        }
      ]
    },
    {
      "cell_type": "code",
      "metadata": {
        "id": "SO2uM57V7I6r"
      },
      "source": [
        "soup = BeautifulSoup(sample, 'html.parser')"
      ],
      "execution_count": 10,
      "outputs": []
    },
    {
      "cell_type": "code",
      "metadata": {
        "colab": {
          "base_uri": "https://localhost:8080/",
          "height": 89
        },
        "id": "DOs8TIqX7NsL",
        "outputId": "14e6c58e-e3b9-4774-9032-bfe369390788"
      },
      "source": [
        "soup.text"
      ],
      "execution_count": 11,
      "outputs": [
        {
          "output_type": "execute_result",
          "data": {
            "application/vnd.google.colaboratory.intrinsic+json": {
              "type": "string"
            },
            "text/plain": [
              "\"With all this stuff going down at the moment with MJ i've started listening to his music, watching the odd documentary here and there, watched The Wiz and watched Moonwalker again. Maybe i just want to get a certain insight into this guy who i thought was really cool in the eighties just to maybe make up my mind whether he is guilty or innocent. Moonwalker is part biography, part feature film which i remember going to see at the cinema when it was originally released. Some of it has subtle messages about MJ's feeling towards the press and also the obvious message of drugs are bad m'kay.Visually impressive but of course this is all about Michael Jackson so unless you remotely like MJ in anyway then you are going to hate this and find it boring. Some may call MJ an egotist for consenting to the making of this movie BUT MJ and most of his fans would say that he made it for the fans which if true is really nice of him.The actual feature film bit when it finally starts is only on for 20 minutes or so excluding the Smooth Criminal sequence and Joe Pesci is convincing as a psychopathic all powerful drug lord. Why he wants MJ dead so bad is beyond me. Because MJ overheard his plans? Nah, Joe Pesci's character ranted that he wanted people to know it is he who is supplying drugs etc so i dunno, maybe he just hates MJ's music.Lots of cool things in this like MJ turning into a car and a robot and the whole Speed Demon sequence. Also, the director must have had the patience of a saint when it came to filming the kiddy Bad sequence as usually directors hate working with one kid let alone a whole bunch of them performing a complex dance scene.Bottom line, this movie is for people who like MJ on one level or another (which i think is most people). If not, then stay away. It does try and give off a wholesome message and ironically MJ's bestest buddy in this movie is a girl! Michael Jackson is truly one of the most talented people ever to grace this planet but is he guilty? Well, with all the attention i've gave this subject....hmmm well i don't know because people can be different behind closed doors, i know this for a fact. He is either an extremely nice but stupid guy or one of the most sickest liars. I hope he is not the latter.\""
            ]
          },
          "metadata": {
            "tags": []
          },
          "execution_count": 11
        }
      ]
    },
    {
      "cell_type": "code",
      "metadata": {
        "id": "Rsbenlv17Opy"
      },
      "source": [
        "import re"
      ],
      "execution_count": 12,
      "outputs": []
    },
    {
      "cell_type": "code",
      "metadata": {
        "id": "JLFKcYuT7TB4"
      },
      "source": [
        "cleaned = re.sub('[^a-zA-Z]', ' ', soup.text)"
      ],
      "execution_count": 13,
      "outputs": []
    },
    {
      "cell_type": "code",
      "metadata": {
        "colab": {
          "base_uri": "https://localhost:8080/",
          "height": 89
        },
        "id": "vtEpNVfa7fhn",
        "outputId": "c7180acc-0af1-4dce-c97f-0df722cd37af"
      },
      "source": [
        "cleaned"
      ],
      "execution_count": 14,
      "outputs": [
        {
          "output_type": "execute_result",
          "data": {
            "application/vnd.google.colaboratory.intrinsic+json": {
              "type": "string"
            },
            "text/plain": [
              "'With all this stuff going down at the moment with MJ i ve started listening to his music  watching the odd documentary here and there  watched The Wiz and watched Moonwalker again  Maybe i just want to get a certain insight into this guy who i thought was really cool in the eighties just to maybe make up my mind whether he is guilty or innocent  Moonwalker is part biography  part feature film which i remember going to see at the cinema when it was originally released  Some of it has subtle messages about MJ s feeling towards the press and also the obvious message of drugs are bad m kay Visually impressive but of course this is all about Michael Jackson so unless you remotely like MJ in anyway then you are going to hate this and find it boring  Some may call MJ an egotist for consenting to the making of this movie BUT MJ and most of his fans would say that he made it for the fans which if true is really nice of him The actual feature film bit when it finally starts is only on for    minutes or so excluding the Smooth Criminal sequence and Joe Pesci is convincing as a psychopathic all powerful drug lord  Why he wants MJ dead so bad is beyond me  Because MJ overheard his plans  Nah  Joe Pesci s character ranted that he wanted people to know it is he who is supplying drugs etc so i dunno  maybe he just hates MJ s music Lots of cool things in this like MJ turning into a car and a robot and the whole Speed Demon sequence  Also  the director must have had the patience of a saint when it came to filming the kiddy Bad sequence as usually directors hate working with one kid let alone a whole bunch of them performing a complex dance scene Bottom line  this movie is for people who like MJ on one level or another  which i think is most people   If not  then stay away  It does try and give off a wholesome message and ironically MJ s bestest buddy in this movie is a girl  Michael Jackson is truly one of the most talented people ever to grace this planet but is he guilty  Well  with all the attention i ve gave this subject    hmmm well i don t know because people can be different behind closed doors  i know this for a fact  He is either an extremely nice but stupid guy or one of the most sickest liars  I hope he is not the latter '"
            ]
          },
          "metadata": {
            "tags": []
          },
          "execution_count": 14
        }
      ]
    },
    {
      "cell_type": "code",
      "metadata": {
        "colab": {
          "base_uri": "https://localhost:8080/",
          "height": 89
        },
        "id": "SEAUJby97k3M",
        "outputId": "c18f5911-feb3-4c3c-c2c6-819f723e4b82"
      },
      "source": [
        "cleaned.lower()"
      ],
      "execution_count": 15,
      "outputs": [
        {
          "output_type": "execute_result",
          "data": {
            "application/vnd.google.colaboratory.intrinsic+json": {
              "type": "string"
            },
            "text/plain": [
              "'with all this stuff going down at the moment with mj i ve started listening to his music  watching the odd documentary here and there  watched the wiz and watched moonwalker again  maybe i just want to get a certain insight into this guy who i thought was really cool in the eighties just to maybe make up my mind whether he is guilty or innocent  moonwalker is part biography  part feature film which i remember going to see at the cinema when it was originally released  some of it has subtle messages about mj s feeling towards the press and also the obvious message of drugs are bad m kay visually impressive but of course this is all about michael jackson so unless you remotely like mj in anyway then you are going to hate this and find it boring  some may call mj an egotist for consenting to the making of this movie but mj and most of his fans would say that he made it for the fans which if true is really nice of him the actual feature film bit when it finally starts is only on for    minutes or so excluding the smooth criminal sequence and joe pesci is convincing as a psychopathic all powerful drug lord  why he wants mj dead so bad is beyond me  because mj overheard his plans  nah  joe pesci s character ranted that he wanted people to know it is he who is supplying drugs etc so i dunno  maybe he just hates mj s music lots of cool things in this like mj turning into a car and a robot and the whole speed demon sequence  also  the director must have had the patience of a saint when it came to filming the kiddy bad sequence as usually directors hate working with one kid let alone a whole bunch of them performing a complex dance scene bottom line  this movie is for people who like mj on one level or another  which i think is most people   if not  then stay away  it does try and give off a wholesome message and ironically mj s bestest buddy in this movie is a girl  michael jackson is truly one of the most talented people ever to grace this planet but is he guilty  well  with all the attention i ve gave this subject    hmmm well i don t know because people can be different behind closed doors  i know this for a fact  he is either an extremely nice but stupid guy or one of the most sickest liars  i hope he is not the latter '"
            ]
          },
          "metadata": {
            "tags": []
          },
          "execution_count": 15
        }
      ]
    },
    {
      "cell_type": "code",
      "metadata": {
        "colab": {
          "base_uri": "https://localhost:8080/"
        },
        "id": "psddcQU58pl0",
        "outputId": "2c7b8727-e56f-4bf8-bc32-b79f3b9b9caa"
      },
      "source": [
        "import nltk\n",
        "nltk.download('stopwords')\n",
        "eng_stopwords = stopwords.words('english')"
      ],
      "execution_count": 16,
      "outputs": [
        {
          "output_type": "stream",
          "text": [
            "[nltk_data] Downloading package stopwords to /root/nltk_data...\n",
            "[nltk_data]   Unzipping corpora/stopwords.zip.\n"
          ],
          "name": "stdout"
        }
      ]
    },
    {
      "cell_type": "code",
      "metadata": {
        "colab": {
          "base_uri": "https://localhost:8080/"
        },
        "id": "Y8ZWtGB_Bx4m",
        "outputId": "67c985f1-6b15-4b28-f7d4-18d50cb4af00"
      },
      "source": [
        "from nltk.stem import WordNetLemmatizer\n",
        "nltk.download('wordnet')"
      ],
      "execution_count": 17,
      "outputs": [
        {
          "output_type": "stream",
          "text": [
            "[nltk_data] Downloading package wordnet to /root/nltk_data...\n",
            "[nltk_data]   Unzipping corpora/wordnet.zip.\n"
          ],
          "name": "stdout"
        },
        {
          "output_type": "execute_result",
          "data": {
            "text/plain": [
              "True"
            ]
          },
          "metadata": {
            "tags": []
          },
          "execution_count": 17
        }
      ]
    },
    {
      "cell_type": "code",
      "metadata": {
        "id": "iD2JHPsBBzck"
      },
      "source": [
        "lemmatizer = WordNetLemmatizer()"
      ],
      "execution_count": 18,
      "outputs": []
    },
    {
      "cell_type": "code",
      "metadata": {
        "id": "U1YBM7ONB2v2"
      },
      "source": [
        "def process_lemma(sentence):\n",
        "  return [lemmatizer.lemmatize(word, 'v') for word in sentence]"
      ],
      "execution_count": 19,
      "outputs": []
    },
    {
      "cell_type": "code",
      "metadata": {
        "id": "ltE_Vn7o7qw5"
      },
      "source": [
        "def preprocessing(sentence):\n",
        "  soup = BeautifulSoup(sentence, 'html.parser')\n",
        "  cleaned = re.sub('[^a-zA-Z]', ' ', soup.text)\n",
        "  cleaned = cleaned.lower()\n",
        "  cleaned = [word for word in cleaned.split() if word not in eng_stopwords]\n",
        "  cleaned = process_lemma(cleaned)\n",
        "  return ' '.join(cleaned)"
      ],
      "execution_count": 20,
      "outputs": []
    },
    {
      "cell_type": "code",
      "metadata": {
        "colab": {
          "base_uri": "https://localhost:8080/",
          "height": 89
        },
        "id": "6AMf7jL186WB",
        "outputId": "fb0fc185-73af-4e98-88e3-6b404474320e"
      },
      "source": [
        "preprocessing(sample)"
      ],
      "execution_count": 21,
      "outputs": [
        {
          "output_type": "execute_result",
          "data": {
            "application/vnd.google.colaboratory.intrinsic+json": {
              "type": "string"
            },
            "text/plain": [
              "'stuff go moment mj start listen music watch odd documentary watch wiz watch moonwalker maybe want get certain insight guy think really cool eighties maybe make mind whether guilty innocent moonwalker part biography part feature film remember go see cinema originally release subtle message mj feel towards press also obvious message drug bad kay visually impressive course michael jackson unless remotely like mj anyway go hate find bore may call mj egotist consent make movie mj fan would say make fan true really nice actual feature film bite finally start minutes exclude smooth criminal sequence joe pesci convince psychopathic powerful drug lord want mj dead bad beyond mj overhear plan nah joe pesci character rant want people know supply drug etc dunno maybe hat mj music lot cool things like mj turn car robot whole speed demon sequence also director must patience saint come film kiddy bad sequence usually directors hate work one kid let alone whole bunch perform complex dance scene bottom line movie people like mj one level another think people stay away try give wholesome message ironically mj bestest buddy movie girl michael jackson truly one talented people ever grace planet guilty well attention give subject hmmm well know people different behind close doors know fact either extremely nice stupid guy one sickest liars hope latter'"
            ]
          },
          "metadata": {
            "tags": []
          },
          "execution_count": 21
        }
      ]
    },
    {
      "cell_type": "code",
      "metadata": {
        "id": "lSjmiC-m8_af"
      },
      "source": [
        "all_review = pd.concat([train['review'], unlabeled_train['review'], test['review']])"
      ],
      "execution_count": 22,
      "outputs": []
    },
    {
      "cell_type": "code",
      "metadata": {
        "id": "NEGAXFGF9q-N"
      },
      "source": [
        "all_review_clean = all_review.apply(preprocessing)"
      ],
      "execution_count": 23,
      "outputs": []
    },
    {
      "cell_type": "code",
      "metadata": {
        "colab": {
          "base_uri": "https://localhost:8080/"
        },
        "id": "W6WMXyXF9zGj",
        "outputId": "c50e9127-e940-4b04-ac53-03fbc3075268"
      },
      "source": [
        "all_review_clean.head()"
      ],
      "execution_count": 24,
      "outputs": [
        {
          "output_type": "execute_result",
          "data": {
            "text/plain": [
              "0    stuff go moment mj start listen music watch od...\n",
              "1    classic war worlds timothy hines entertain fil...\n",
              "2    film start manager nicholas bell give welcome ...\n",
              "3    must assume praise film greatest film opera ev...\n",
              "4    superbly trashy wondrously unpretentious explo...\n",
              "Name: review, dtype: object"
            ]
          },
          "metadata": {
            "tags": []
          },
          "execution_count": 24
        }
      ]
    },
    {
      "cell_type": "markdown",
      "metadata": {
        "id": "_GUvE9NO-J_5"
      },
      "source": [
        "### CountVectorizer"
      ]
    },
    {
      "cell_type": "code",
      "metadata": {
        "id": "uMgTI1P1-I27"
      },
      "source": [
        "#from sklearn.feature_extraction.text import CountVectorizer"
      ],
      "execution_count": 25,
      "outputs": []
    },
    {
      "cell_type": "code",
      "metadata": {
        "id": "b0VbJCHe-Qlo"
      },
      "source": [
        "#cv = CountVectorizer(analyzer='word', max_features=5000)"
      ],
      "execution_count": 26,
      "outputs": []
    },
    {
      "cell_type": "code",
      "metadata": {
        "id": "i_2bwuD_-UuE"
      },
      "source": [
        "#all_review_cv = cv.fit_transform(all_review_clean)"
      ],
      "execution_count": 27,
      "outputs": []
    },
    {
      "cell_type": "code",
      "metadata": {
        "id": "-TZNJrzf-Z6u"
      },
      "source": [
        "#all_review_cv.shape"
      ],
      "execution_count": 28,
      "outputs": []
    },
    {
      "cell_type": "markdown",
      "metadata": {
        "id": "S--9lV6oCyn7"
      },
      "source": [
        "### Tokenizer"
      ]
    },
    {
      "cell_type": "code",
      "metadata": {
        "id": "KI6U16bFCv01"
      },
      "source": [
        "from tensorflow.keras.preprocessing.text import Tokenizer"
      ],
      "execution_count": 29,
      "outputs": []
    },
    {
      "cell_type": "code",
      "metadata": {
        "id": "Kc67RUpzC5k8"
      },
      "source": [
        "tokenizer = Tokenizer(oov_token='<OOV>')"
      ],
      "execution_count": 30,
      "outputs": []
    },
    {
      "cell_type": "code",
      "metadata": {
        "id": "8bH1XoMZC5TZ"
      },
      "source": [
        "tokenizer.fit_on_texts(all_review_clean)"
      ],
      "execution_count": 31,
      "outputs": []
    },
    {
      "cell_type": "code",
      "metadata": {
        "colab": {
          "base_uri": "https://localhost:8080/"
        },
        "id": "O76L5O7RC5Cw",
        "outputId": "aac7727f-e611-4ba1-fca1-3144285c42d4"
      },
      "source": [
        "len(tokenizer.word_index)"
      ],
      "execution_count": 32,
      "outputs": [
        {
          "output_type": "execute_result",
          "data": {
            "text/plain": [
              "126312"
            ]
          },
          "metadata": {
            "tags": []
          },
          "execution_count": 32
        }
      ]
    },
    {
      "cell_type": "code",
      "metadata": {
        "id": "d70OpBVQDRYJ"
      },
      "source": [
        "train_sentences = all_review_clean[:len(train)]\n",
        "test_sentences = all_review_clean[-len(test):]"
      ],
      "execution_count": 33,
      "outputs": []
    },
    {
      "cell_type": "code",
      "metadata": {
        "colab": {
          "base_uri": "https://localhost:8080/"
        },
        "id": "BiHtyHvSDVRO",
        "outputId": "61d61d0e-a79f-4932-9155-923a692f7f47"
      },
      "source": [
        "train_sentences.shape, test_sentences.shape"
      ],
      "execution_count": 34,
      "outputs": [
        {
          "output_type": "execute_result",
          "data": {
            "text/plain": [
              "((25000,), (25000,))"
            ]
          },
          "metadata": {
            "tags": []
          },
          "execution_count": 34
        }
      ]
    },
    {
      "cell_type": "code",
      "metadata": {
        "id": "xq_Ycm52DaCK"
      },
      "source": [
        "train_sequences = tokenizer.texts_to_sequences(train_sentences)\n",
        "test_sequences = tokenizer.texts_to_sequences(test_sentences)"
      ],
      "execution_count": 35,
      "outputs": []
    },
    {
      "cell_type": "code",
      "metadata": {
        "colab": {
          "base_uri": "https://localhost:8080/"
        },
        "id": "Woaa_ueeDkyB",
        "outputId": "2421eba2-1f6b-4dec-d176-0478873cd107"
      },
      "source": [
        "train_sequences[0]"
      ],
      "execution_count": 36,
      "outputs": [
        {
          "output_type": "execute_result",
          "data": {
            "text/plain": [
              "[397,\n",
              " 12,\n",
              " 463,\n",
              " 11594,\n",
              " 83,\n",
              " 931,\n",
              " 127,\n",
              " 13,\n",
              " 895,\n",
              " 507,\n",
              " 13,\n",
              " 21106,\n",
              " 13,\n",
              " 19437,\n",
              " 179,\n",
              " 46,\n",
              " 8,\n",
              " 639,\n",
              " 2250,\n",
              " 66,\n",
              " 16,\n",
              " 18,\n",
              " 469,\n",
              " 3273,\n",
              " 179,\n",
              " 5,\n",
              " 188,\n",
              " 643,\n",
              " 2110,\n",
              " 1155,\n",
              " 19437,\n",
              " 58,\n",
              " 4431,\n",
              " 58,\n",
              " 258,\n",
              " 2,\n",
              " 240,\n",
              " 12,\n",
              " 7,\n",
              " 349,\n",
              " 1643,\n",
              " 255,\n",
              " 1145,\n",
              " 550,\n",
              " 11594,\n",
              " 59,\n",
              " 773,\n",
              " 2039,\n",
              " 29,\n",
              " 471,\n",
              " 550,\n",
              " 593,\n",
              " 26,\n",
              " 4231,\n",
              " 1924,\n",
              " 1032,\n",
              " 175,\n",
              " 420,\n",
              " 1453,\n",
              " 782,\n",
              " 2209,\n",
              " 6,\n",
              " 11594,\n",
              " 459,\n",
              " 12,\n",
              " 613,\n",
              " 37,\n",
              " 170,\n",
              " 116,\n",
              " 146,\n",
              " 11594,\n",
              " 34889,\n",
              " 9296,\n",
              " 5,\n",
              " 3,\n",
              " 11594,\n",
              " 109,\n",
              " 15,\n",
              " 25,\n",
              " 5,\n",
              " 109,\n",
              " 198,\n",
              " 18,\n",
              " 253,\n",
              " 727,\n",
              " 258,\n",
              " 2,\n",
              " 114,\n",
              " 339,\n",
              " 83,\n",
              " 141,\n",
              " 7788,\n",
              " 3475,\n",
              " 1502,\n",
              " 311,\n",
              " 781,\n",
              " 6909,\n",
              " 526,\n",
              " 9123,\n",
              " 785,\n",
              " 593,\n",
              " 1370,\n",
              " 46,\n",
              " 11594,\n",
              " 242,\n",
              " 26,\n",
              " 558,\n",
              " 11594,\n",
              " 9785,\n",
              " 505,\n",
              " 12451,\n",
              " 781,\n",
              " 6909,\n",
              " 11,\n",
              " 3763,\n",
              " 46,\n",
              " 27,\n",
              " 24,\n",
              " 2666,\n",
              " 593,\n",
              " 413,\n",
              " 8743,\n",
              " 179,\n",
              " 724,\n",
              " 11594,\n",
              " 127,\n",
              " 64,\n",
              " 469,\n",
              " 94,\n",
              " 6,\n",
              " 11594,\n",
              " 90,\n",
              " 419,\n",
              " 1905,\n",
              " 130,\n",
              " 1523,\n",
              " 2147,\n",
              " 311,\n",
              " 29,\n",
              " 68,\n",
              " 113,\n",
              " 3929,\n",
              " 3388,\n",
              " 36,\n",
              " 2,\n",
              " 22089,\n",
              " 26,\n",
              " 311,\n",
              " 516,\n",
              " 843,\n",
              " 613,\n",
              " 43,\n",
              " 4,\n",
              " 129,\n",
              " 152,\n",
              " 518,\n",
              " 130,\n",
              " 630,\n",
              " 890,\n",
              " 1120,\n",
              " 423,\n",
              " 55,\n",
              " 1131,\n",
              " 107,\n",
              " 3,\n",
              " 27,\n",
              " 6,\n",
              " 11594,\n",
              " 4,\n",
              " 410,\n",
              " 76,\n",
              " 16,\n",
              " 27,\n",
              " 407,\n",
              " 155,\n",
              " 49,\n",
              " 32,\n",
              " 6493,\n",
              " 550,\n",
              " 3286,\n",
              " 11594,\n",
              " 37213,\n",
              " 1734,\n",
              " 3,\n",
              " 150,\n",
              " 420,\n",
              " 1453,\n",
              " 288,\n",
              " 4,\n",
              " 881,\n",
              " 27,\n",
              " 52,\n",
              " 1259,\n",
              " 1190,\n",
              " 2110,\n",
              " 19,\n",
              " 552,\n",
              " 32,\n",
              " 561,\n",
              " 6075,\n",
              " 19,\n",
              " 24,\n",
              " 27,\n",
              " 177,\n",
              " 425,\n",
              " 321,\n",
              " 3255,\n",
              " 24,\n",
              " 102,\n",
              " 267,\n",
              " 462,\n",
              " 253,\n",
              " 286,\n",
              " 66,\n",
              " 4,\n",
              " 16684,\n",
              " 17234,\n",
              " 331,\n",
              " 1410]"
            ]
          },
          "metadata": {
            "tags": []
          },
          "execution_count": 36
        }
      ]
    },
    {
      "cell_type": "code",
      "metadata": {
        "id": "Xwqtb8YuDkiG"
      },
      "source": [
        "from tensorflow.keras.preprocessing.sequence import pad_sequences"
      ],
      "execution_count": 37,
      "outputs": []
    },
    {
      "cell_type": "code",
      "metadata": {
        "id": "Wr79qZ4ID4jc"
      },
      "source": [
        "MAX_LENGTH = 150"
      ],
      "execution_count": 38,
      "outputs": []
    },
    {
      "cell_type": "code",
      "metadata": {
        "id": "_bvFDIlaDy28"
      },
      "source": [
        "train_padded = pad_sequences(train_sequences, maxlen=MAX_LENGTH, truncating='post', padding='post')\n",
        "test_padded = pad_sequences(test_sequences, maxlen=MAX_LENGTH, truncating='post', padding='post')"
      ],
      "execution_count": 39,
      "outputs": []
    },
    {
      "cell_type": "code",
      "metadata": {
        "colab": {
          "base_uri": "https://localhost:8080/"
        },
        "id": "hn4u-eEUEJcH",
        "outputId": "629238b1-e4bc-41b5-b6f1-06e61afcd9ee"
      },
      "source": [
        "train_padded.shape, test_padded.shape"
      ],
      "execution_count": 40,
      "outputs": [
        {
          "output_type": "execute_result",
          "data": {
            "text/plain": [
              "((25000, 150), (25000, 150))"
            ]
          },
          "metadata": {
            "tags": []
          },
          "execution_count": 40
        }
      ]
    },
    {
      "cell_type": "code",
      "metadata": {
        "id": "vXX_jURiEWsf"
      },
      "source": [
        "train_labels = train['sentiment']"
      ],
      "execution_count": 41,
      "outputs": []
    },
    {
      "cell_type": "code",
      "metadata": {
        "id": "9gVVr2JAEPHF"
      },
      "source": [
        "from sklearn.model_selection import train_test_split"
      ],
      "execution_count": 42,
      "outputs": []
    },
    {
      "cell_type": "code",
      "metadata": {
        "id": "9U3wAl10EO8Y"
      },
      "source": [
        "x_train, x_valid, y_train, y_valid = train_test_split(train_padded, train_labels, stratify=train_labels, test_size =0.1, random_state=SEED)"
      ],
      "execution_count": 43,
      "outputs": []
    },
    {
      "cell_type": "markdown",
      "metadata": {
        "id": "G_ewKV2BUKED"
      },
      "source": [
        "### Word2Vec"
      ]
    },
    {
      "cell_type": "code",
      "metadata": {
        "id": "3FryG65jUMgr"
      },
      "source": [
        "from gensim.models import KeyedVectors"
      ],
      "execution_count": 44,
      "outputs": []
    },
    {
      "cell_type": "code",
      "metadata": {
        "id": "05sVUN5SUMTr"
      },
      "source": [
        "word2vec = KeyedVectors.load_word2vec_format('/content/drive/MyDrive/Kaggle/movie/GoogleNews-vectors-negative300.bin', binary=True)"
      ],
      "execution_count": 45,
      "outputs": []
    },
    {
      "cell_type": "code",
      "metadata": {
        "id": "3XchJrPgUmot"
      },
      "source": [
        "EMBEDDING_DIM = 300\n",
        "VOCAB_SIZE = len(tokenizer.word_index) + 1\n",
        "\n",
        "embedding_matrix = np.zeros((VOCAB_SIZE, EMBEDDING_DIM))"
      ],
      "execution_count": 46,
      "outputs": []
    },
    {
      "cell_type": "code",
      "metadata": {
        "id": "TuqFH2o0UmdI"
      },
      "source": [
        "for word, idx in tokenizer.word_index.items():\n",
        "  embedding_vector = word2vec[word] if word in word2vec else None\n",
        "  if embedding_vector is not None:\n",
        "    embedding_matrix[idx] = embedding_vector"
      ],
      "execution_count": 49,
      "outputs": []
    },
    {
      "cell_type": "code",
      "metadata": {
        "colab": {
          "base_uri": "https://localhost:8080/"
        },
        "id": "ELoGt76GUmRl",
        "outputId": "d0848b4f-f7fb-4a84-d954-10ed5d2877f4"
      },
      "source": [
        "embedding_matrix.shape"
      ],
      "execution_count": 50,
      "outputs": [
        {
          "output_type": "execute_result",
          "data": {
            "text/plain": [
              "(126313, 300)"
            ]
          },
          "metadata": {
            "tags": []
          },
          "execution_count": 50
        }
      ]
    },
    {
      "cell_type": "markdown",
      "metadata": {
        "id": "RxmjOJ7LE59-"
      },
      "source": [
        "### Model"
      ]
    },
    {
      "cell_type": "code",
      "metadata": {
        "id": "tfx1Nc-0CpUJ"
      },
      "source": [
        "from tensorflow.keras.layers import Dense, LSTM, Bidirectional, Embedding, Dropout\n",
        "from tensorflow.keras.models import Sequential\n",
        "from tensorflow.keras.callbacks import ModelCheckpoint"
      ],
      "execution_count": 51,
      "outputs": []
    },
    {
      "cell_type": "code",
      "metadata": {
        "id": "6M207oqDBjyw"
      },
      "source": [
        "model = Sequential([\n",
        "                    Embedding(VOCAB_SIZE, EMBEDDING_DIM, input_length=MAX_LENGTH,\n",
        "                              weights=[embedding_matrix],\n",
        "                              trainable=False),\n",
        "                    Bidirectional(LSTM(128, return_sequences=True)),\n",
        "                    Bidirectional(LSTM(128)),\n",
        "                    Dropout(0.25),\n",
        "                    Dense(32, activation='relu'),\n",
        "                    Dense(1, activation='sigmoid')\n",
        "])"
      ],
      "execution_count": 52,
      "outputs": []
    },
    {
      "cell_type": "code",
      "metadata": {
        "colab": {
          "base_uri": "https://localhost:8080/"
        },
        "id": "3e6MpC94FtC4",
        "outputId": "cfb51d5f-d006-4373-ba03-603600512bb4"
      },
      "source": [
        "model.summary()"
      ],
      "execution_count": 53,
      "outputs": [
        {
          "output_type": "stream",
          "text": [
            "Model: \"sequential\"\n",
            "_________________________________________________________________\n",
            "Layer (type)                 Output Shape              Param #   \n",
            "=================================================================\n",
            "embedding (Embedding)        (None, 150, 300)          37893900  \n",
            "_________________________________________________________________\n",
            "bidirectional (Bidirectional (None, 150, 256)          439296    \n",
            "_________________________________________________________________\n",
            "bidirectional_1 (Bidirection (None, 256)               394240    \n",
            "_________________________________________________________________\n",
            "dropout (Dropout)            (None, 256)               0         \n",
            "_________________________________________________________________\n",
            "dense (Dense)                (None, 32)                8224      \n",
            "_________________________________________________________________\n",
            "dense_1 (Dense)              (None, 1)                 33        \n",
            "=================================================================\n",
            "Total params: 38,735,693\n",
            "Trainable params: 841,793\n",
            "Non-trainable params: 37,893,900\n",
            "_________________________________________________________________\n"
          ],
          "name": "stdout"
        }
      ]
    },
    {
      "cell_type": "code",
      "metadata": {
        "id": "UdtfTGqdFvMs"
      },
      "source": [
        "model.compile(optimizer='adam', loss='binary_crossentropy', metrics=['acc'])"
      ],
      "execution_count": 54,
      "outputs": []
    },
    {
      "cell_type": "code",
      "metadata": {
        "id": "lM8qwRVfGM0g"
      },
      "source": [
        "checkpoint_path = 'tmp/checkpoint.ckpt'\n",
        "checkpoint = ModelCheckpoint(filepath=checkpoint_path,\n",
        "                             save_best_only=True,\n",
        "                             save_weights_only=True,\n",
        "                             monitor='val_loss',\n",
        "                             verbose=1)"
      ],
      "execution_count": 55,
      "outputs": []
    },
    {
      "cell_type": "code",
      "metadata": {
        "colab": {
          "base_uri": "https://localhost:8080/"
        },
        "id": "YV7Qx8eFHIs3",
        "outputId": "13c4b4ed-129f-4c15-e5b7-b01062535ac3"
      },
      "source": [
        "model.fit(x_train, y_train,\n",
        "          validation_data=(x_valid, y_valid),\n",
        "          batch_size=128,\n",
        "          epochs=20,\n",
        "          callbacks=[checkpoint])"
      ],
      "execution_count": 56,
      "outputs": [
        {
          "output_type": "stream",
          "text": [
            "Epoch 1/20\n",
            "176/176 [==============================] - 24s 71ms/step - loss: 0.4570 - acc: 0.7912 - val_loss: 0.4124 - val_acc: 0.8272\n",
            "\n",
            "Epoch 00001: val_loss improved from inf to 0.41242, saving model to tmp/checkpoint.ckpt\n",
            "Epoch 2/20\n",
            "176/176 [==============================] - 12s 66ms/step - loss: 0.4001 - acc: 0.8310 - val_loss: 0.3971 - val_acc: 0.8228\n",
            "\n",
            "Epoch 00002: val_loss improved from 0.41242 to 0.39713, saving model to tmp/checkpoint.ckpt\n",
            "Epoch 3/20\n",
            "176/176 [==============================] - 12s 66ms/step - loss: 0.3814 - acc: 0.8393 - val_loss: 0.3992 - val_acc: 0.8368\n",
            "\n",
            "Epoch 00003: val_loss did not improve from 0.39713\n",
            "Epoch 4/20\n",
            "176/176 [==============================] - 12s 66ms/step - loss: 0.3539 - acc: 0.8548 - val_loss: 0.4069 - val_acc: 0.8236\n",
            "\n",
            "Epoch 00004: val_loss did not improve from 0.39713\n",
            "Epoch 5/20\n",
            "176/176 [==============================] - 12s 66ms/step - loss: 0.3281 - acc: 0.8633 - val_loss: 0.3600 - val_acc: 0.8388\n",
            "\n",
            "Epoch 00005: val_loss improved from 0.39713 to 0.36004, saving model to tmp/checkpoint.ckpt\n",
            "Epoch 6/20\n",
            "176/176 [==============================] - 12s 67ms/step - loss: 0.3119 - acc: 0.8750 - val_loss: 0.3580 - val_acc: 0.8484\n",
            "\n",
            "Epoch 00006: val_loss improved from 0.36004 to 0.35803, saving model to tmp/checkpoint.ckpt\n",
            "Epoch 7/20\n",
            "176/176 [==============================] - 12s 67ms/step - loss: 0.2953 - acc: 0.8789 - val_loss: 0.3201 - val_acc: 0.8652\n",
            "\n",
            "Epoch 00007: val_loss improved from 0.35803 to 0.32013, saving model to tmp/checkpoint.ckpt\n",
            "Epoch 8/20\n",
            "176/176 [==============================] - 12s 68ms/step - loss: 0.2809 - acc: 0.8858 - val_loss: 0.3313 - val_acc: 0.8700\n",
            "\n",
            "Epoch 00008: val_loss did not improve from 0.32013\n",
            "Epoch 9/20\n",
            "176/176 [==============================] - 12s 68ms/step - loss: 0.2638 - acc: 0.8932 - val_loss: 0.3309 - val_acc: 0.8720\n",
            "\n",
            "Epoch 00009: val_loss did not improve from 0.32013\n",
            "Epoch 10/20\n",
            "176/176 [==============================] - 12s 68ms/step - loss: 0.2559 - acc: 0.8980 - val_loss: 0.3206 - val_acc: 0.8584\n",
            "\n",
            "Epoch 00010: val_loss did not improve from 0.32013\n",
            "Epoch 11/20\n",
            "176/176 [==============================] - 12s 67ms/step - loss: 0.2398 - acc: 0.9060 - val_loss: 0.3273 - val_acc: 0.8632\n",
            "\n",
            "Epoch 00011: val_loss did not improve from 0.32013\n",
            "Epoch 12/20\n",
            "176/176 [==============================] - 12s 67ms/step - loss: 0.2078 - acc: 0.9200 - val_loss: 0.3607 - val_acc: 0.8544\n",
            "\n",
            "Epoch 00012: val_loss did not improve from 0.32013\n",
            "Epoch 13/20\n",
            "176/176 [==============================] - 12s 67ms/step - loss: 0.1888 - acc: 0.9256 - val_loss: 0.3505 - val_acc: 0.8648\n",
            "\n",
            "Epoch 00013: val_loss did not improve from 0.32013\n",
            "Epoch 14/20\n",
            "176/176 [==============================] - 12s 66ms/step - loss: 0.1686 - acc: 0.9359 - val_loss: 0.3592 - val_acc: 0.8648\n",
            "\n",
            "Epoch 00014: val_loss did not improve from 0.32013\n",
            "Epoch 15/20\n",
            "176/176 [==============================] - 12s 67ms/step - loss: 0.1551 - acc: 0.9412 - val_loss: 0.4183 - val_acc: 0.8472\n",
            "\n",
            "Epoch 00015: val_loss did not improve from 0.32013\n",
            "Epoch 16/20\n",
            "176/176 [==============================] - 12s 67ms/step - loss: 0.1288 - acc: 0.9515 - val_loss: 0.5369 - val_acc: 0.8480\n",
            "\n",
            "Epoch 00016: val_loss did not improve from 0.32013\n",
            "Epoch 17/20\n",
            "176/176 [==============================] - 12s 67ms/step - loss: 0.1094 - acc: 0.9588 - val_loss: 0.5217 - val_acc: 0.8604\n",
            "\n",
            "Epoch 00017: val_loss did not improve from 0.32013\n",
            "Epoch 18/20\n",
            "176/176 [==============================] - 12s 67ms/step - loss: 0.0931 - acc: 0.9648 - val_loss: 0.4559 - val_acc: 0.8524\n",
            "\n",
            "Epoch 00018: val_loss did not improve from 0.32013\n",
            "Epoch 19/20\n",
            "176/176 [==============================] - 12s 67ms/step - loss: 0.0847 - acc: 0.9690 - val_loss: 0.5889 - val_acc: 0.8556\n",
            "\n",
            "Epoch 00019: val_loss did not improve from 0.32013\n",
            "Epoch 20/20\n",
            "176/176 [==============================] - 12s 67ms/step - loss: 0.0590 - acc: 0.9787 - val_loss: 0.6288 - val_acc: 0.8472\n",
            "\n",
            "Epoch 00020: val_loss did not improve from 0.32013\n"
          ],
          "name": "stdout"
        },
        {
          "output_type": "execute_result",
          "data": {
            "text/plain": [
              "<tensorflow.python.keras.callbacks.History at 0x7f076d5cb790>"
            ]
          },
          "metadata": {
            "tags": []
          },
          "execution_count": 56
        }
      ]
    },
    {
      "cell_type": "code",
      "metadata": {
        "colab": {
          "base_uri": "https://localhost:8080/"
        },
        "id": "FUYqlLAwHWAq",
        "outputId": "549ff62e-c177-47bf-abfb-88ac9453fbcf"
      },
      "source": [
        "model.load_weights(checkpoint_path)"
      ],
      "execution_count": 57,
      "outputs": [
        {
          "output_type": "execute_result",
          "data": {
            "text/plain": [
              "<tensorflow.python.training.tracking.util.CheckpointLoadStatus at 0x7f0769c4cd10>"
            ]
          },
          "metadata": {
            "tags": []
          },
          "execution_count": 57
        }
      ]
    },
    {
      "cell_type": "code",
      "metadata": {
        "colab": {
          "base_uri": "https://localhost:8080/"
        },
        "id": "Fb99xdAgOQ0f",
        "outputId": "5b477fe2-9049-40a6-854a-751847d63c88"
      },
      "source": [
        "model.evaluate(x_valid, y_valid)"
      ],
      "execution_count": 58,
      "outputs": [
        {
          "output_type": "stream",
          "text": [
            "79/79 [==============================] - 1s 16ms/step - loss: 0.3201 - acc: 0.8652\n"
          ],
          "name": "stdout"
        },
        {
          "output_type": "execute_result",
          "data": {
            "text/plain": [
              "[0.3201339542865753, 0.8651999831199646]"
            ]
          },
          "metadata": {
            "tags": []
          },
          "execution_count": 58
        }
      ]
    },
    {
      "cell_type": "code",
      "metadata": {
        "id": "LHn-rz5GOUeI"
      },
      "source": [
        "prediction = model.predict(test_padded)"
      ],
      "execution_count": 59,
      "outputs": []
    },
    {
      "cell_type": "code",
      "metadata": {
        "id": "0T47knaAOfUO"
      },
      "source": [
        "prediction[prediction >= 0.5] = 1\n",
        "prediction[prediction < 0.5] = 0"
      ],
      "execution_count": 60,
      "outputs": []
    },
    {
      "cell_type": "code",
      "metadata": {
        "colab": {
          "base_uri": "https://localhost:8080/"
        },
        "id": "h_T87V8POsx0",
        "outputId": "b7c9c5a9-019e-4b46-9ce9-7cc0a90315b1"
      },
      "source": [
        "prediction"
      ],
      "execution_count": 61,
      "outputs": [
        {
          "output_type": "execute_result",
          "data": {
            "text/plain": [
              "array([[1.],\n",
              "       [0.],\n",
              "       [1.],\n",
              "       ...,\n",
              "       [0.],\n",
              "       [1.],\n",
              "       [0.]], dtype=float32)"
            ]
          },
          "metadata": {
            "tags": []
          },
          "execution_count": 61
        }
      ]
    },
    {
      "cell_type": "code",
      "metadata": {
        "id": "QYv5bwHjOt9w"
      },
      "source": [
        "submission = pd.read_csv('/content/drive/MyDrive/Kaggle/movie/sampleSubmission.csv')"
      ],
      "execution_count": 62,
      "outputs": []
    },
    {
      "cell_type": "code",
      "metadata": {
        "id": "VAjl8DpxO6BL"
      },
      "source": [
        "submission['sentiment'] = prediction"
      ],
      "execution_count": 63,
      "outputs": []
    },
    {
      "cell_type": "code",
      "metadata": {
        "id": "h5gNNlEBPAri"
      },
      "source": [
        "submission['sentiment'] = submission['sentiment'].astype('int')"
      ],
      "execution_count": 64,
      "outputs": []
    },
    {
      "cell_type": "code",
      "metadata": {
        "id": "I4Zc3XluPK5M"
      },
      "source": [
        "submission.to_csv('movie_word2vec.csv', index=False)"
      ],
      "execution_count": 65,
      "outputs": []
    },
    {
      "cell_type": "code",
      "metadata": {
        "id": "s5s6mJJaXRB-"
      },
      "source": [
        ""
      ],
      "execution_count": null,
      "outputs": []
    }
  ]
}